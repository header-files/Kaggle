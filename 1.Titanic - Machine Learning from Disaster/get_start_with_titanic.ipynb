{
 "cells": [
  {
   "cell_type": "markdown",
   "metadata": {},
   "source": [
    "- 数据概览：\n",
    "    - 训练集共891个样本，其中549个未存活、342个存活；\n",
    "    - 测试集共418个样本。\n",
    "\n",
    "|序号|表头名称|表头含义|取值类型|\n",
    "|--|--|--|--|\n",
    "|1|PassengerID|旅客id|整数|\n",
    "|2|Survived|是否存活|0：否； 1：是|\n",
    "|3|Pclass|舱位|1：头等舱； 2：二等舱； 3：三等舱|\n",
    "|4|Name|旅客姓名|字符串|\n",
    "|5|Sex|性别|female；male|\n",
    "|6|Age|年龄|年龄小于1则为分数；如果是估计年龄，则为xx.5；有缺失值|\n",
    "|7|SibSp|乘客在船上兄弟姐妹/配偶的个数|整数|\n",
    "|8|Parch|乘客在船上父母/孩子的个数|整数|\n",
    "|9|Ticket|票号|字符串|\n",
    "|10|Fare|票价|浮点数|\n",
    "|11|Cabin|船舱|字符串；有缺失值|\n",
    "|12|Embarked|登船港口|C： Cherbourg；Q：Queenstown；S：Southampton；有缺失值|"
   ]
  },
  {
   "cell_type": "code",
   "execution_count": null,
   "metadata": {},
   "outputs": [],
   "source": [
    "import numpy as np\n",
    "import pandas as pd\n",
    "from pylab import mpl\n",
    "\n",
    "# 指定默认字体：解决plot不能显示中文问题\n",
    "mpl.rcParams['font.sans-serif'] = ['Microsoft YaHei']\n",
    "mpl.rcParams['axes.unicode_minus'] = False               # 解决保存图像是负号'-'显示为方块的问题\n",
    "\n",
    "# 加载数据\n",
    "data_train = pd.read_csv('./data/train.csv')\n",
    "data_test = pd.read_csv('./data/test.csv')\n"
   ]
  },
  {
   "cell_type": "code",
   "execution_count": null,
   "id": "39c8bbb0",
   "metadata": {},
   "outputs": [],
   "source": [
    "print(data_train.info())\n",
    "print(data_test.info())\n"
   ]
  },
  {
   "cell_type": "markdown",
   "id": "3480ffef",
   "metadata": {},
   "source": [
    "- 属性概览\n",
    "  - 数值型数据：Age(有缺失值：训练集177个样本缺失，测试集86个样本缺失)、SibSp、Parch、Fare(测试集1个样本缺失)；\n",
    "   - 类别型数据：Pclass、Sex、Embarked(有缺失值：训练集2个样本缺失，测试集无缺失)；\n",
    "   - ~~文本型数据：Name、Ticket、Cabin(有缺失值：训练集687个样本缺失，327个样本缺失)。~~\n",
    "- 删除Name、Ticket、Cabin，暂定保留Age、SibSp、Parch、Fare、Pclass、Sex、Embarked作为属性值\n",
    "- 训练集中只有两个样本的Embarked值缺失，删除这两个样本\n",
    "- Pclass、Sex、Embarked进行one-hot编码\n",
    "- 训练集中缺失Age值的样本过多，使用knn插值"
   ]
  },
  {
   "cell_type": "code",
   "execution_count": null,
   "id": "14240c60",
   "metadata": {},
   "outputs": [],
   "source": [
    "# 删除PassengerId、Name、Ticket、Cabin\n",
    "data_train = data_train.drop(\n",
    "    columns=['PassengerId', 'Name', 'Ticket', 'Cabin'])\n"
   ]
  },
  {
   "cell_type": "code",
   "execution_count": null,
   "id": "6b83f10f",
   "metadata": {},
   "outputs": [],
   "source": [
    "# 删除Embarked值缺失的样本\n",
    "nan_index = np.where(pd.isna(data_train['Embarked']))\n",
    "data_train = data_train.drop(index=np.array(nan_index).reshape(-1))\n"
   ]
  },
  {
   "cell_type": "code",
   "execution_count": null,
   "id": "1eac4b92",
   "metadata": {},
   "outputs": [],
   "source": [
    "# Pclass、Sex、Embarked进行one-hot编码\n",
    "pclass = pd.get_dummies(data_train['Pclass'], prefix='Pclass')\n",
    "sex = pd.get_dummies(data_train['Sex'], prefix='Sex')\n",
    "embarked = pd.get_dummies(data_train['Embarked'], prefix='Embarked')\n",
    "\n",
    "y_train = data_train['Survived']\n",
    "x_train = data_train.drop(columns=['Survived'])\n",
    "x_train = x_train.drop(columns=['Pclass', 'Sex', 'Embarked'])\n",
    "x_train = pd.concat([x_train, pclass, sex, embarked], axis=1)\n"
   ]
  },
  {
   "cell_type": "code",
   "execution_count": null,
   "id": "8f9f1987",
   "metadata": {},
   "outputs": [],
   "source": [
    "#  SibSp、Parch、Fare均值方差归一化处理\n",
    "sibSp_mean = np.mean(x_train['SibSp'])\n",
    "sibSp_std = np.std(x_train['SibSp'])\n",
    "\n",
    "parch_mean = np.mean(x_train['Parch'])\n",
    "parch_std = np.std(x_train['Parch'])\n",
    "\n",
    "fare_mean = np.mean(x_train['Fare'])\n",
    "fare_std = np.std(x_train['Fare'])\n",
    "\n",
    "x_train['SibSp'] = (x_train['SibSp']-sibSp_mean)/sibSp_std\n",
    "x_train['Parch'] = (x_train['Parch']-parch_mean)/parch_std\n",
    "x_train['Fare'] = (x_train['Fare']-fare_mean)/fare_std\n"
   ]
  },
  {
   "cell_type": "code",
   "execution_count": null,
   "id": "cb54a81e",
   "metadata": {},
   "outputs": [],
   "source": [
    "# 对Age属性使用knn插值\n",
    "from sklearn.impute import KNNImputer\n",
    "knn_imputer = KNNImputer(n_neighbors=10)\n",
    "x_train = knn_imputer.fit_transform(x_train)\n",
    "\n",
    "# Age归一化处理\n",
    "age_mean = np.mean(x_train[:, 0])\n",
    "age_std = np.std(x_train[:, 0])\n",
    "\n",
    "x_train[:, 0] = (x_train[:, 0]-age_mean)/age_std\n"
   ]
  },
  {
   "cell_type": "markdown",
   "id": "d463ce4e",
   "metadata": {},
   "source": [
    "- 选择模型：knn\n",
    "- 训练模型：网格搜索"
   ]
  },
  {
   "cell_type": "code",
   "execution_count": null,
   "id": "0cddb0a1",
   "metadata": {},
   "outputs": [],
   "source": [
    "from sklearn.neighbors import KNeighborsClassifier\n",
    "from sklearn.model_selection import train_test_split\n",
    "from sklearn.model_selection import GridSearchCV\n",
    "\n",
    "\n",
    "_x_train, _x_test, _y_train, _y_test = train_test_split(\n",
    "    x_train, y_train, test_size=0.3, random_state=10)\n",
    "\n",
    "model = KNeighborsClassifier()\n",
    "params = [{'n_neighbors': list(range(1, 20)), 'weights': [\n",
    "    'uniform', 'distance']}]\n",
    "\n",
    "\n",
    "model = GridSearchCV(model, params)\n",
    "model.fit(_x_train, _y_train)\n",
    "\n",
    "print(model.best_params_)\n",
    "print(model.best_score_)\n",
    "print(model.score(_x_test, _y_test))\n"
   ]
  },
  {
   "cell_type": "markdown",
   "id": "19dec178",
   "metadata": {},
   "source": [
    "- 对测试进行预测\n",
    "- 按要求存储预测结果"
   ]
  },
  {
   "cell_type": "code",
   "execution_count": null,
   "id": "a1bed84d",
   "metadata": {},
   "outputs": [],
   "source": [
    "# 删除PassengerId、Name、Ticket、Cabin\n",
    "passengerId = data_test['PassengerId']\n",
    "data_test = data_test.drop(\n",
    "    columns=['PassengerId', 'Name', 'Ticket', 'Cabin'])\n"
   ]
  },
  {
   "cell_type": "code",
   "execution_count": null,
   "id": "c73fb92f",
   "metadata": {},
   "outputs": [],
   "source": [
    "# 对Fare属性缺失值使用均值插补\n",
    "index = np.where(pd.isna(data_test['Fare']))\n",
    "data_test.loc[index[0], 'Fare'] = mean = np.mean(data_test['Fare'])\n"
   ]
  },
  {
   "cell_type": "code",
   "execution_count": null,
   "id": "9bb168b0",
   "metadata": {},
   "outputs": [],
   "source": [
    "# Pclass、Sex、Embarked进行one-hot编码\n",
    "from sklearn.impute import KNNImputer\n",
    "pclass = pd.get_dummies(data_test['Pclass'], prefix='Pclass')\n",
    "sex = pd.get_dummies(data_test['Sex'], prefix='Sex')\n",
    "embarked = pd.get_dummies(data_test['Embarked'], prefix='Embarked')\n",
    "\n",
    "x_test = data_test.drop(columns=['Pclass', 'Sex', 'Embarked'])\n",
    "x_test = pd.concat([x_test, pclass, sex, embarked], axis=1)\n"
   ]
  },
  {
   "cell_type": "code",
   "execution_count": null,
   "id": "92daed5c",
   "metadata": {},
   "outputs": [],
   "source": [
    "#  SibSp、Parch、Fare均值方差归一化处理\n",
    "x_test['SibSp'] = (x_test['SibSp']-sibSp_mean)/sibSp_std\n",
    "x_test['Parch'] = (x_test['Parch']-parch_mean)/parch_std\n",
    "x_test['Fare'] = (x_test['Fare']-fare_mean)/fare_std\n"
   ]
  },
  {
   "cell_type": "code",
   "execution_count": null,
   "id": "c2b7b922",
   "metadata": {},
   "outputs": [],
   "source": [
    "# 对Age属性使用knn插值\n",
    "knn_imputer = KNNImputer(n_neighbors=10)\n",
    "x_test = knn_imputer.fit_transform(x_test)\n",
    "\n",
    "# Age归一化处理\n",
    "x_test[:, 0] = (x_test[:, 0]-age_mean)/age_std"
   ]
  },
  {
   "cell_type": "code",
   "execution_count": 158,
   "id": "72d58551",
   "metadata": {},
   "outputs": [],
   "source": [
    "# 预测测试集\n",
    "y_test_pre = model.predict(x_test)\n",
    "y_test_pre = pd.Series(y_test_pre, name='Survived')\n",
    "\n",
    "# 合并并保持数据\n",
    "test_pre = pd.DataFrame({'PassengerId': passengerId, 'Survived': y_test_pre})\n",
    "test_pre.to_csv('gender_submission.csv', index=False)\n"
   ]
  }
 ],
 "metadata": {
  "kernelspec": {
   "display_name": "Python 3.7.9 64-bit",
   "language": "python",
   "name": "python3"
  },
  "language_info": {
   "codemirror_mode": {
    "name": "ipython",
    "version": 3
   },
   "file_extension": ".py",
   "mimetype": "text/x-python",
   "name": "python",
   "nbconvert_exporter": "python",
   "pygments_lexer": "ipython3",
   "version": "3.7.9"
  },
  "vscode": {
   "interpreter": {
    "hash": "f215425a2d4d1f10b6cb3b2ced5b05f6c7e9ea439ae0b7436101621d6ff4ef7e"
   }
  }
 },
 "nbformat": 4,
 "nbformat_minor": 5
}
