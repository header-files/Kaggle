{
 "cells": [
  {
   "cell_type": "markdown",
   "metadata": {},
   "source": [
    "## 数据格式：\n",
    "训练集共891个样本，其中549个未存活、342个存活\n",
    "\n",
    "|序号|表头名称|表头含义|取值类型|\n",
    "|--|--|--|--|\n",
    "|1|PassengerID|旅客id|整数|\n",
    "|2|Survived|是否存活|0：否； 1：是|\n",
    "|3|Pclass|舱位|1：头等舱； 2：二等舱； 3：三等舱|\n",
    "|4|Name|旅客姓名|字符串|\n",
    "|5|Sex|性别|female；male|\n",
    "|6|Age|年龄|年龄小于1则为分数；如果是估计年龄，则为xx.5；有缺失值|\n",
    "|7|SibSp|乘客在船上兄弟姐妹/配偶的个数|整数|\n",
    "|8|Parch|乘客在船上父母/孩子的个数|整数|\n",
    "|9|Ticket|票号|字符串|\n",
    "|10|Fare|票价|浮点数|\n",
    "|11|Cabin|船舱|字符串；有缺失值|\n",
    "|12|Embarked|登船港口|C： Cherbourg；Q：Queenstown；S：Southampton；有缺失值|\n",
    "\n",
    "1. 数值型数据：Age(有缺失值)、SibSp、Parch、Fare\n",
    "2. 类别型数据：Pclass、Sex、Embarked(有缺失值)\n",
    "3. ~~文本型数据：Name、Ticket、Cabin(有缺失值)~~"
   ]
  },
  {
   "cell_type": "code",
   "execution_count": 94,
   "metadata": {},
   "outputs": [
    {
     "name": "stdout",
     "output_type": "stream",
     "text": [
      "数据形状：(891, 12)\n",
      "列标签：['PassengerId' 'Survived' 'Pclass' 'Name' 'Sex' 'Age' 'SibSp' 'Parch'\n",
      " 'Ticket' 'Fare' 'Cabin' 'Embarked']\n"
     ]
    }
   ],
   "source": [
    "import numpy as np\n",
    "import pandas as pd\n",
    "from pylab import mpl\n",
    "\n",
    "# 指定默认字体：解决plot不能显示中文问题\n",
    "mpl.rcParams['font.sans-serif'] = ['Microsoft YaHei']\n",
    "mpl.rcParams['axes.unicode_minus'] = False               # 解决保存图像是负号'-'显示为方块的问题\n",
    "\n",
    "# 加载数据\n",
    "data = pd.read_csv('./data/train.csv')\n",
    "print(\"数据形状：{}\".format(data.shape))\n",
    "print(\"列标签：{}\".format(data.columns.values))\n"
   ]
  },
  {
   "cell_type": "markdown",
   "id": "772abed3",
   "metadata": {},
   "source": [
    "## 数据分析：\n",
    "1. 异常值处理\n",
    "2. 判断哪些数据和标签值相关性较大\n",
    "3. 属性之间、属性与结果之间的相关性"
   ]
  },
  {
   "cell_type": "code",
   "execution_count": 15,
   "id": "14240c60",
   "metadata": {},
   "outputs": [],
   "source": [
    "# 删除Name、Ticket、Cabin\n",
    "data = data.drop(columns=['Name', 'Ticket', 'Cabin'])"
   ]
  },
  {
   "cell_type": "code",
   "execution_count": 87,
   "id": "69c0db42",
   "metadata": {},
   "outputs": [],
   "source": [
    "# 查看 Age 的缺失值情况\n",
    "age_nan_index = np.where(np.isnan(data['Age']))[0]\n",
    "age_not_survived = data.loc[data['Survived'] == 0, 'Age']  # 549\n",
    "age_survived = data.loc[data['Survived'] == 1, 'Age']  # 342\n",
    "\n",
    "a = age_not_survived[np.isnan(age_not_survived)]  # 125\n",
    "b = age_not_survived[~np.isnan(age_not_survived)]  # 424\n",
    "c = age_survived[np.isnan(age_survived)]  # 52\n",
    "d = age_survived[~np.isnan(age_survived)]  # 290\n",
    "\n",
    "age = pd.DataFrame([[d.shape[0], c.shape[0]], [b.shape[0], a.shape[0]]], index=[\n",
    "                    '存活', '未存活'], columns=['非nan', 'nan'])\n"
   ]
  },
  {
   "cell_type": "code",
   "execution_count": 103,
   "id": "ab61be09",
   "metadata": {},
   "outputs": [
    {
     "data": {
      "text/plain": [
       "array([<AxesSubplot:ylabel='非nan'>, <AxesSubplot:ylabel='nan'>],\n",
       "      dtype=object)"
      ]
     },
     "execution_count": 103,
     "metadata": {},
     "output_type": "execute_result"
    },
    {
     "data": {
      "image/png": "[encoded data removed]",
      "text/plain": [
       "<Figure size 800x800 with 2 Axes>"
      ]
     },
     "metadata": {},
     "output_type": "display_data"
    }
   ],
   "source": [
    "age.plot.pie(subplots=True, figsize=(8, 8), fontsize=8, legend=False)"
   ]
  },
  {
   "cell_type": "code",
   "execution_count": null,
   "metadata": {},
   "outputs": [],
   "source": [
    "# 判断数值型数据与结果之间的相关性\n",
    "import matplotlib.pyplot as plt\n",
    "plt.rcParams['font.sans-serif'] = ['SimHei']\n",
    "plt.rcParams['axes.unicode_minus'] = False\n",
    "\n",
    "plt.subplot(2, 2, 1)\n",
    "plt.title('不同年龄的获救情况')\n",
    "x = data.loc[data['Survived'] == 0, 'Age'].value_counts()\n",
    "y = data.loc[data['Survived'] == 1, 'Age'].value_counts()\n",
    "index = x.index.sort_values()\n",
    "plt.bar(index, x[index], linewidth=1, color=\"orange\")\n",
    "plt.bar(y.index.sort_values(),\n",
    "        y[y.index.sort_values()], linewidth=1, color=\"red\")\n",
    "plt.show()\n",
    "\n",
    "plt.subplot(2, 2, 2)\n",
    "plt.title('不同年龄的获救情况')\n",
    "x = data.loc[data['Survived'] == 0, 'SibSp'].value_counts()\n",
    "y = data.loc[data['Survived'] == 1, 'SibSp'].value_counts()\n",
    "index = x.index.sort_values()\n",
    "plt.bar(index, x[index], linewidth=1, color=\"orange\")\n",
    "plt.bar(y.index.sort_values(),\n",
    "        y[y.index.sort_values()], linewidth=1, color=\"red\")\n",
    "plt.show()\n",
    "\n",
    "plt.subplot(2, 2, 3)\n",
    "plt.title('不同年龄的获救情况')\n",
    "x = data.loc[data['Survived'] == 0, 'Parch'].value_counts()\n",
    "y = data.loc[data['Survived'] == 1, 'Parch'].value_counts()\n",
    "index = x.index.sort_values()\n",
    "plt.bar(index, x[index], linewidth=1, color=\"orange\")\n",
    "plt.bar(y.index.sort_values(),\n",
    "        y[y.index.sort_values()], linewidth=1, color=\"red\")\n",
    "plt.show()\n",
    "\n",
    "plt.subplot(2, 2, 4)\n",
    "plt.title('不同年龄的获救情况')\n",
    "x = data.loc[data['Survived'] == 0, 'Fare'].value_counts()\n",
    "y = data.loc[data['Survived'] == 1, 'Fare'].value_counts()\n",
    "index = x.index.sort_values()\n",
    "plt.bar(index, x[index], linewidth=1, color=\"orange\")\n",
    "plt.bar(y.index.sort_values(),\n",
    "        y[y.index.sort_values()], linewidth=1, color=\"red\")\n",
    "plt.show()"
   ]
  },
  {
   "cell_type": "code",
   "execution_count": null,
   "metadata": {},
   "outputs": [],
   "source": [
    "data['Survived'] == 0"
   ]
  },
  {
   "cell_type": "code",
   "execution_count": null,
   "metadata": {},
   "outputs": [],
   "source": [
    "import numpy as np \n",
    "import pandas as pd\n",
    "\n",
    "train_data_dir = '/kaggle/input/titanic/train.csv'\n",
    "data = pd.read_csv(train_data_dir)\n",
    "feature_names = list(pd.read_csv(train_data_dir, nrows=0))[2:]\n",
    "x = data[feature_names]\n",
    "y = data['Survived']\n",
    "\n",
    "print(data.shape)\n",
    "print(x.shape)\n",
    "print(y.shape)\n",
    "\n",
    "import numpy as np\n",
    "import pandas as pd\n",
    "from sklearn import svm\n",
    "from sklearn.model_selection import train_test_split\n",
    "\n",
    "\n",
    "train_data_dir = '/kaggle/input/titanic/train.csv'\n",
    "data = pd.read_csv(train_data_dir)\n",
    "feature_names = list(pd.read_csv(train_data_dir, nrows=0))[2:]\n",
    "\n",
    "x = data[feature_names]\n",
    "y = data['Survived']\n",
    "x_train, x_test, y_train, y_test = train_test_split(x, y, test_size=0.3)\n",
    "\n",
    "model = svm.SVC(C=2, kernel='linear', gamma=10)\n",
    "model.fit(x_train, y_train)\n",
    "print(model.score(x_train, y_train))"
   ]
  }
 ],
 "metadata": {
  "kernelspec": {
   "display_name": "Python 3.7.9 64-bit",
   "language": "python",
   "name": "python3"
  },
  "language_info": {
   "codemirror_mode": {
    "name": "ipython",
    "version": 3
   },
   "file_extension": ".py",
   "mimetype": "text/x-python",
   "name": "python",
   "nbconvert_exporter": "python",
   "pygments_lexer": "ipython3",
   "version": "3.7.9"
  },
  "vscode": {
   "interpreter": {
    "hash": "f215425a2d4d1f10b6cb3b2ced5b05f6c7e9ea439ae0b7436101621d6ff4ef7e"
   }
  }
 },
 "nbformat": 4,
 "nbformat_minor": 5
}
